{
 "cells": [
  {
   "cell_type": "markdown",
   "metadata": {},
   "source": [
    "### Heroes Of Pymoli Data Analysis\n",
    "* Of the 1163 active players, the vast majority are male (84%). There also exists, a smaller, but notable proportion of female players (14%).\n",
    "\n",
    "* Our peak age demographic falls between 20-24 (44.8%) with secondary groups falling between 15-19 (18.60%) and 25-29 (13.4%).  \n",
    "\n",
    "* Our peak age demographic (20-24) is also the highest spender at $1114.06. The second highest total purchase came from the 15-19 group, however, it is less than half of the 20-24 group.\n",
    "\n",
    "* The players from the 35-39 age group spent the most on the game purchases compared to any other individuals in other age groups\n",
    "\n",
    "* The most popular game is Final Critic with 13 total purchases. It is also the most profitable with total revenue at $59.99\n",
    "\n",
    "-----"
   ]
  },
  {
   "cell_type": "code",
   "execution_count": 135,
   "metadata": {},
   "outputs": [
    {
     "output_type": "execute_result",
     "data": {
      "text/plain": "   Purchase ID           SN  Age Gender  Item ID  \\\n0            0      Lisim78   20   Male      108   \n1            1  Lisovynya38   40   Male      143   \n2            2   Ithergue48   24   Male       92   \n\n                                   Item Name  Price  \n0  Extraction, Quickblade Of Trembling Hands   3.53  \n1                          Frenzied Scimitar   1.56  \n2                               Final Critic   4.88  ",
      "text/html": "<div>\n<style scoped>\n    .dataframe tbody tr th:only-of-type {\n        vertical-align: middle;\n    }\n\n    .dataframe tbody tr th {\n        vertical-align: top;\n    }\n\n    .dataframe thead th {\n        text-align: right;\n    }\n</style>\n<table border=\"1\" class=\"dataframe\">\n  <thead>\n    <tr style=\"text-align: right;\">\n      <th></th>\n      <th>Purchase ID</th>\n      <th>SN</th>\n      <th>Age</th>\n      <th>Gender</th>\n      <th>Item ID</th>\n      <th>Item Name</th>\n      <th>Price</th>\n    </tr>\n  </thead>\n  <tbody>\n    <tr>\n      <td>0</td>\n      <td>0</td>\n      <td>Lisim78</td>\n      <td>20</td>\n      <td>Male</td>\n      <td>108</td>\n      <td>Extraction, Quickblade Of Trembling Hands</td>\n      <td>3.53</td>\n    </tr>\n    <tr>\n      <td>1</td>\n      <td>1</td>\n      <td>Lisovynya38</td>\n      <td>40</td>\n      <td>Male</td>\n      <td>143</td>\n      <td>Frenzied Scimitar</td>\n      <td>1.56</td>\n    </tr>\n    <tr>\n      <td>2</td>\n      <td>2</td>\n      <td>Ithergue48</td>\n      <td>24</td>\n      <td>Male</td>\n      <td>92</td>\n      <td>Final Critic</td>\n      <td>4.88</td>\n    </tr>\n  </tbody>\n</table>\n</div>"
     },
     "metadata": {},
     "execution_count": 135
    }
   ],
   "source": [
    "# Dependencies and Setup\n",
    "import pandas as pd\n",
    "import numpy as np\n",
    "\n",
    "# File to Load\n",
    "file_to_load = \"Resources/purchase_data.csv\"\n",
    "\n",
    "# Read Purchasing File and store into Pandas data frame\n",
    "purchase_data = pd.read_csv(file_to_load)\n",
    "purchase_data.head(3)"
   ]
  },
  {
   "cell_type": "markdown",
   "metadata": {},
   "source": [
    "## Player Count"
   ]
  },
  {
   "cell_type": "code",
   "execution_count": 136,
   "metadata": {},
   "outputs": [
    {
     "output_type": "execute_result",
     "data": {
      "text/plain": "   Total Players\n0            576",
      "text/html": "<div>\n<style scoped>\n    .dataframe tbody tr th:only-of-type {\n        vertical-align: middle;\n    }\n\n    .dataframe tbody tr th {\n        vertical-align: top;\n    }\n\n    .dataframe thead th {\n        text-align: right;\n    }\n</style>\n<table border=\"1\" class=\"dataframe\">\n  <thead>\n    <tr style=\"text-align: right;\">\n      <th></th>\n      <th>Total Players</th>\n    </tr>\n  </thead>\n  <tbody>\n    <tr>\n      <td>0</td>\n      <td>576</td>\n    </tr>\n  </tbody>\n</table>\n</div>"
     },
     "metadata": {},
     "execution_count": 136
    }
   ],
   "source": [
    "total_players = pd.Series(purchase_data[\"SN\"].unique()).count()\n",
    "player_dict = {\"Total Players\": total_players}\n",
    "# Create a new summary DataFrame:\n",
    "total_players_df = pd.DataFrame(player_dict,index=[0])\n",
    "total_players_df"
   ]
  },
  {
   "cell_type": "markdown",
   "metadata": {},
   "source": [
    "## Purchasing Analysis (Total)"
   ]
  },
  {
   "cell_type": "markdown",
   "metadata": {},
   "source": [
    "* Run basic calculations to obtain number of unique items, average price, etc.\n",
    "\n",
    "\n",
    "* Create a summary data frame to hold the results\n",
    "\n",
    "\n",
    "* Optional: give the displayed data cleaner formatting\n",
    "\n",
    "\n",
    "* Display the summary data frame\n"
   ]
  },
  {
   "cell_type": "code",
   "execution_count": 139,
   "metadata": {},
   "outputs": [
    {
     "output_type": "execute_result",
     "data": {
      "text/plain": "   Number of Unique Items Average Price  Number of Purchases Total Revenue\n0                     179         $3.05                  780      $2379.77",
      "text/html": "<div>\n<style scoped>\n    .dataframe tbody tr th:only-of-type {\n        vertical-align: middle;\n    }\n\n    .dataframe tbody tr th {\n        vertical-align: top;\n    }\n\n    .dataframe thead th {\n        text-align: right;\n    }\n</style>\n<table border=\"1\" class=\"dataframe\">\n  <thead>\n    <tr style=\"text-align: right;\">\n      <th></th>\n      <th>Number of Unique Items</th>\n      <th>Average Price</th>\n      <th>Number of Purchases</th>\n      <th>Total Revenue</th>\n    </tr>\n  </thead>\n  <tbody>\n    <tr>\n      <td>0</td>\n      <td>179</td>\n      <td>$3.05</td>\n      <td>780</td>\n      <td>$2379.77</td>\n    </tr>\n  </tbody>\n</table>\n</div>"
     },
     "metadata": {},
     "execution_count": 139
    }
   ],
   "source": [
    "unique_items = pd.Series(purchase_data[\"Item ID\"].unique()).count()\n",
    "average_price = pd.Series(purchase_data[\"Price\"]).mean()\n",
    "number_of_purchases = pd.Series(purchase_data[\"Purchase ID\"]).count()\n",
    "total_revenue = pd.Series(purchase_data[\"Price\"]).sum()\n",
    "\n",
    "# Creating a new summary DataFrame:\n",
    "purchasing_dict = {\n",
    "    \"Number of Unique Items\":unique_items, \n",
    "    \"Average Price\":average_price, \n",
    "    \"Number of Purchases\":number_of_purchases, \n",
    "    \"Total Revenue\":total_revenue\n",
    "    }\n",
    "purchasing_summary_df = pd.DataFrame(purchasing_dict,index=[0])\n",
    "\n",
    "# Using Map to format columns\n",
    "purchasing_summary_df[\"Average Price\"] = purchasing_summary_df[\"Average Price\"].map(\"${:.2f}\".format)\n",
    "purchasing_summary_df[\"Total Revenue\"] = purchasing_summary_df[\"Total Revenue\"].map(\"${:.2f}\".format)\n",
    "purchasing_summary_df"
   ]
  },
  {
   "cell_type": "markdown",
   "metadata": {},
   "source": [
    "## Gender Demographics"
   ]
  },
  {
   "cell_type": "markdown",
   "metadata": {},
   "source": [
    "* Percentage and Count of Male Players\n",
    "\n",
    "\n",
    "* Percentage and Count of Female Players\n",
    "\n",
    "\n",
    "* Percentage and Count of Other / Non-Disclosed\n",
    "\n",
    "\n"
   ]
  },
  {
   "cell_type": "code",
   "execution_count": 142,
   "metadata": {},
   "outputs": [
    {
     "output_type": "execute_result",
     "data": {
      "text/plain": "                       Total Count Percentage of Players\nGender                                                  \nFemale                          81                14.06%\nMale                           484                84.03%\nOther / Non-Disclosed           11                 1.91%",
      "text/html": "<div>\n<style scoped>\n    .dataframe tbody tr th:only-of-type {\n        vertical-align: middle;\n    }\n\n    .dataframe tbody tr th {\n        vertical-align: top;\n    }\n\n    .dataframe thead th {\n        text-align: right;\n    }\n</style>\n<table border=\"1\" class=\"dataframe\">\n  <thead>\n    <tr style=\"text-align: right;\">\n      <th></th>\n      <th>Total Count</th>\n      <th>Percentage of Players</th>\n    </tr>\n    <tr>\n      <th>Gender</th>\n      <th></th>\n      <th></th>\n    </tr>\n  </thead>\n  <tbody>\n    <tr>\n      <td>Female</td>\n      <td>81</td>\n      <td>14.06%</td>\n    </tr>\n    <tr>\n      <td>Male</td>\n      <td>484</td>\n      <td>84.03%</td>\n    </tr>\n    <tr>\n      <td>Other / Non-Disclosed</td>\n      <td>11</td>\n      <td>1.91%</td>\n    </tr>\n  </tbody>\n</table>\n</div>"
     },
     "metadata": {},
     "execution_count": 142
    }
   ],
   "source": [
    "gender_analysis_df = purchase_data.copy()\n",
    "demographics_df = gender_analysis_df.groupby(\"Gender\").nunique()\n",
    "\n",
    "# Removing unrelated columns\n",
    "demographics_df = demographics_df.drop(columns=[\"Purchase ID\", \"Age\", \"Gender\", \"Item ID\", \"Item Name\", \"Price\"])\n",
    "\n",
    "# Creating a new column and performing percentage calculations at the same time\n",
    "demographics_df[\"Percentage of Players\"] = demographics_df[\"SN\"]/total_players * 100 \n",
    "demographics_df.rename(columns={\"SN\":\"Total Count\"}, inplace=True)\n",
    "# Using Map to format columns\n",
    "demographics_df[\"Percentage of Players\"] = demographics_df[\"Percentage of Players\"].map(\"{:.2f}%\".format)\n",
    "demographics_df"
   ]
  },
  {
   "cell_type": "markdown",
   "metadata": {},
   "source": [
    "\n",
    "## Purchasing Analysis (Gender)"
   ]
  },
  {
   "cell_type": "markdown",
   "metadata": {},
   "source": [
    "* Run basic calculations to obtain purchase count, avg. purchase price, avg. purchase total per person etc. by gender\n",
    "\n",
    "\n",
    "\n",
    "\n",
    "* Create a summary data frame to hold the results\n",
    "\n",
    "\n",
    "* Optional: give the displayed data cleaner formatting\n",
    "\n",
    "\n",
    "* Display the summary data frame"
   ]
  },
  {
   "cell_type": "code",
   "execution_count": 143,
   "metadata": {},
   "outputs": [
    {
     "output_type": "execute_result",
     "data": {
      "text/plain": "                       Purchase Count Average Purchase Price  \\\nGender                                                         \nFemale                            113                  $3.20   \nMale                              652                  $3.02   \nOther / Non-Disclosed              15                  $3.35   \n\n                      Total Purchase Value Avg Total Purchase per Person  \nGender                                                                    \nFemale                             $361.94                         $4.47  \nMale                              $1967.64                         $4.07  \nOther / Non-Disclosed               $50.19                         $4.56  ",
      "text/html": "<div>\n<style scoped>\n    .dataframe tbody tr th:only-of-type {\n        vertical-align: middle;\n    }\n\n    .dataframe tbody tr th {\n        vertical-align: top;\n    }\n\n    .dataframe thead th {\n        text-align: right;\n    }\n</style>\n<table border=\"1\" class=\"dataframe\">\n  <thead>\n    <tr style=\"text-align: right;\">\n      <th></th>\n      <th>Purchase Count</th>\n      <th>Average Purchase Price</th>\n      <th>Total Purchase Value</th>\n      <th>Avg Total Purchase per Person</th>\n    </tr>\n    <tr>\n      <th>Gender</th>\n      <th></th>\n      <th></th>\n      <th></th>\n      <th></th>\n    </tr>\n  </thead>\n  <tbody>\n    <tr>\n      <td>Female</td>\n      <td>113</td>\n      <td>$3.20</td>\n      <td>$361.94</td>\n      <td>$4.47</td>\n    </tr>\n    <tr>\n      <td>Male</td>\n      <td>652</td>\n      <td>$3.02</td>\n      <td>$1967.64</td>\n      <td>$4.07</td>\n    </tr>\n    <tr>\n      <td>Other / Non-Disclosed</td>\n      <td>15</td>\n      <td>$3.35</td>\n      <td>$50.19</td>\n      <td>$4.56</td>\n    </tr>\n  </tbody>\n</table>\n</div>"
     },
     "metadata": {},
     "execution_count": 143
    }
   ],
   "source": [
    "# Calculating Total Purchase Value\n",
    "grouped_gender_purchase_df = gender_analysis_df.groupby(\"Gender\")\n",
    "total_gender_purchase = grouped_gender_purchase_df[\"Price\"].sum()\n",
    "\n",
    "# Calculating Average Purchase Price\n",
    "average_gender_purchase_price = grouped_gender_purchase_df[\"Price\"].mean()\n",
    "\n",
    "# Calculating Avg Total Purchase per Person\n",
    "average_gender_purchase = total_gender_purchase/demographics_df[\"Total Count\"]\n",
    "\n",
    "# Counting total number of purchases\n",
    "count_gender_purchase = grouped_gender_purchase_df[\"Item Name\"].count()\n",
    "\n",
    "# Creating a new summary DataFrame that contains all the information above\n",
    "purchase_analysis_gender_df = pd.DataFrame({\n",
    "    \"Purchase Count\": count_gender_purchase,\n",
    "    \"Average Purchase Price\": average_gender_purchase_price,\n",
    "    \"Total Purchase Value\": total_gender_purchase,\n",
    "    \"Avg Total Purchase per Person\": average_gender_purchase})\n",
    "\n",
    "# Using Map to format columns\n",
    "purchase_analysis_gender_df[\"Average Purchase Price\"] = purchase_analysis_gender_df[\"Average Purchase Price\"].map(\"${:.2f}\".format)\n",
    "purchase_analysis_gender_df[\"Total Purchase Value\"] = purchase_analysis_gender_df[\"Total Purchase Value\"].map(\"${:.2f}\".format)\n",
    "purchase_analysis_gender_df[\"Avg Total Purchase per Person\"] = purchase_analysis_gender_df[\"Avg Total Purchase per Person\"].map(\"${:.2f}\".format)\n",
    "\n",
    "purchase_analysis_gender_df"
   ]
  },
  {
   "cell_type": "markdown",
   "metadata": {},
   "source": [
    "## Age Demographics"
   ]
  },
  {
   "cell_type": "markdown",
   "metadata": {},
   "source": [
    "* Establish bins for ages\n",
    "\n",
    "\n",
    "* Categorize the existing players using the age bins. Hint: use pd.cut()\n",
    "\n",
    "\n",
    "* Calculate the numbers and percentages by age group\n",
    "\n",
    "\n",
    "* Create a summary data frame to hold the results\n",
    "\n",
    "\n",
    "* Optional: round the percentage column to two decimal points\n",
    "\n",
    "\n",
    "* Display Age Demographics Table\n"
   ]
  },
  {
   "cell_type": "code",
   "execution_count": 145,
   "metadata": {},
   "outputs": [
    {
     "output_type": "execute_result",
     "data": {
      "text/plain": "           Total Count Percentage of Players\nAge Group                                   \n<10                 17                 2.95%\n10-14               22                 3.82%\n15-19              107                18.58%\n20-24              258                44.79%\n25-29               77                13.37%\n30-34               52                 9.03%\n35-39               31                 5.38%\n40+                 12                 2.08%",
      "text/html": "<div>\n<style scoped>\n    .dataframe tbody tr th:only-of-type {\n        vertical-align: middle;\n    }\n\n    .dataframe tbody tr th {\n        vertical-align: top;\n    }\n\n    .dataframe thead th {\n        text-align: right;\n    }\n</style>\n<table border=\"1\" class=\"dataframe\">\n  <thead>\n    <tr style=\"text-align: right;\">\n      <th></th>\n      <th>Total Count</th>\n      <th>Percentage of Players</th>\n    </tr>\n    <tr>\n      <th>Age Group</th>\n      <th></th>\n      <th></th>\n    </tr>\n  </thead>\n  <tbody>\n    <tr>\n      <td>&lt;10</td>\n      <td>17</td>\n      <td>2.95%</td>\n    </tr>\n    <tr>\n      <td>10-14</td>\n      <td>22</td>\n      <td>3.82%</td>\n    </tr>\n    <tr>\n      <td>15-19</td>\n      <td>107</td>\n      <td>18.58%</td>\n    </tr>\n    <tr>\n      <td>20-24</td>\n      <td>258</td>\n      <td>44.79%</td>\n    </tr>\n    <tr>\n      <td>25-29</td>\n      <td>77</td>\n      <td>13.37%</td>\n    </tr>\n    <tr>\n      <td>30-34</td>\n      <td>52</td>\n      <td>9.03%</td>\n    </tr>\n    <tr>\n      <td>35-39</td>\n      <td>31</td>\n      <td>5.38%</td>\n    </tr>\n    <tr>\n      <td>40+</td>\n      <td>12</td>\n      <td>2.08%</td>\n    </tr>\n  </tbody>\n</table>\n</div>"
     },
     "metadata": {},
     "execution_count": 145
    }
   ],
   "source": [
    "age_data_df = purchase_data.copy()\n",
    "bins = [0, 9, 14, 19, 24, 29, 34, 39, 120]\n",
    "group_labels = [\"<10\",\"10-14\",\"15-19\",\"20-24\",\"25-29\",\"30-34\",\"35-39\",\"40+\"]\n",
    "\n",
    "# Slicing the data and placing it into bins. Also placing the data series into a new column inside of the age_data_df DataFrame\n",
    "age_data_df[\"Age Group\"] = pd.cut(age_data_df[\"Age\"], bins, labels=group_labels, include_lowest = True)\n",
    "\n",
    "# Creating a group based off of the bins\n",
    "grouped_age_data_df = age_data_df.groupby(\"Age Group\")\n",
    "\n",
    "# Creating a new summary DataFrame\n",
    "unique_age_df = pd.DataFrame(grouped_age_data_df[\"SN\"].nunique())\n",
    "\n",
    "# Creating a new column and performing percentage calculations at the same time\n",
    "unique_age_df[\"Percentage of Players\"] = unique_age_df[\"SN\"]/total_players * 100 \n",
    "unique_age_df.rename(columns={\"SN\":\"Total Count\"}, inplace=True)\n",
    "\n",
    "# Using Map to format columns\n",
    "unique_age_df[\"Percentage of Players\"] = unique_age_df[\"Percentage of Players\"].map(\"{:.2f}%\".format)\n",
    "unique_age_df"
   ]
  },
  {
   "cell_type": "markdown",
   "metadata": {},
   "source": [
    "## Purchasing Analysis (Age)"
   ]
  },
  {
   "cell_type": "markdown",
   "metadata": {},
   "source": [
    "* Bin the purchase_data data frame by age\n",
    "\n",
    "\n",
    "* Run basic calculations to obtain purchase count, avg. purchase price, avg. purchase total per person etc. in the table below\n",
    "\n",
    "\n",
    "* Create a summary data frame to hold the results\n",
    "\n",
    "\n",
    "* Optional: give the displayed data cleaner formatting\n",
    "\n",
    "\n",
    "* Display the summary data frame"
   ]
  },
  {
   "cell_type": "code",
   "execution_count": 146,
   "metadata": {},
   "outputs": [
    {
     "output_type": "execute_result",
     "data": {
      "text/plain": "           Purchase Count Average Purchase Price Total Purchase Value  \\\nAge Group                                                               \n<10                    23                  $3.35               $77.13   \n10-14                  28                  $2.96               $82.78   \n15-19                 136                  $3.04              $412.89   \n20-24                 365                  $3.05             $1114.06   \n25-29                 101                  $2.90              $293.00   \n30-34                  73                  $2.93              $214.00   \n35-39                  41                  $3.60              $147.67   \n40+                    13                  $2.94               $38.24   \n\n          Avg Total Purchase per Person  \nAge Group                                \n<10                               $4.54  \n10-14                             $3.76  \n15-19                             $3.86  \n20-24                             $4.32  \n25-29                             $3.81  \n30-34                             $4.12  \n35-39                             $4.76  \n40+                               $3.19  ",
      "text/html": "<div>\n<style scoped>\n    .dataframe tbody tr th:only-of-type {\n        vertical-align: middle;\n    }\n\n    .dataframe tbody tr th {\n        vertical-align: top;\n    }\n\n    .dataframe thead th {\n        text-align: right;\n    }\n</style>\n<table border=\"1\" class=\"dataframe\">\n  <thead>\n    <tr style=\"text-align: right;\">\n      <th></th>\n      <th>Purchase Count</th>\n      <th>Average Purchase Price</th>\n      <th>Total Purchase Value</th>\n      <th>Avg Total Purchase per Person</th>\n    </tr>\n    <tr>\n      <th>Age Group</th>\n      <th></th>\n      <th></th>\n      <th></th>\n      <th></th>\n    </tr>\n  </thead>\n  <tbody>\n    <tr>\n      <td>&lt;10</td>\n      <td>23</td>\n      <td>$3.35</td>\n      <td>$77.13</td>\n      <td>$4.54</td>\n    </tr>\n    <tr>\n      <td>10-14</td>\n      <td>28</td>\n      <td>$2.96</td>\n      <td>$82.78</td>\n      <td>$3.76</td>\n    </tr>\n    <tr>\n      <td>15-19</td>\n      <td>136</td>\n      <td>$3.04</td>\n      <td>$412.89</td>\n      <td>$3.86</td>\n    </tr>\n    <tr>\n      <td>20-24</td>\n      <td>365</td>\n      <td>$3.05</td>\n      <td>$1114.06</td>\n      <td>$4.32</td>\n    </tr>\n    <tr>\n      <td>25-29</td>\n      <td>101</td>\n      <td>$2.90</td>\n      <td>$293.00</td>\n      <td>$3.81</td>\n    </tr>\n    <tr>\n      <td>30-34</td>\n      <td>73</td>\n      <td>$2.93</td>\n      <td>$214.00</td>\n      <td>$4.12</td>\n    </tr>\n    <tr>\n      <td>35-39</td>\n      <td>41</td>\n      <td>$3.60</td>\n      <td>$147.67</td>\n      <td>$4.76</td>\n    </tr>\n    <tr>\n      <td>40+</td>\n      <td>13</td>\n      <td>$2.94</td>\n      <td>$38.24</td>\n      <td>$3.19</td>\n    </tr>\n  </tbody>\n</table>\n</div>"
     },
     "metadata": {},
     "execution_count": 146
    }
   ],
   "source": [
    "# Counting purchases by age group\n",
    "count_age_purchase = grouped_age_data_df[\"Item Name\"].count()\n",
    "\n",
    "# Calculating Average Purchase Price\n",
    "average_age_purchase_price = grouped_age_data_df[\"Price\"].mean()\n",
    "\n",
    "# Calculating Total Purchase Value\n",
    "total_age_purchase = grouped_age_data_df[\"Price\"].sum()\n",
    "\n",
    "# Calculating Avg Total Purchase per Person\n",
    "average_age_purchase = total_age_purchase/unique_age_df[\"Total Count\"]\n",
    "\n",
    "# Creating a new summary DataFrame that contains all the information above\n",
    "purchase_analysis_age_df = pd.DataFrame({\n",
    "     \"Purchase Count\": count_age_purchase, \n",
    "     \"Average Purchase Price\": average_age_purchase_price,\n",
    "     \"Total Purchase Value\": total_age_purchase,\n",
    "     \"Avg Total Purchase per Person\": average_age_purchase})\n",
    "\n",
    "# Using Map to format columns\n",
    "purchase_analysis_age_df[\"Average Purchase Price\"] = purchase_analysis_age_df[\"Average Purchase Price\"].map(\"${:.2f}\".format)\n",
    "purchase_analysis_age_df[\"Total Purchase Value\"] = purchase_analysis_age_df[\"Total Purchase Value\"].map(\"${:.2f}\".format)\n",
    "purchase_analysis_age_df[\"Avg Total Purchase per Person\"] = purchase_analysis_age_df[\"Avg Total Purchase per Person\"].map(\"${:.2f}\".format)\n",
    "purchase_analysis_age_df"
   ]
  },
  {
   "cell_type": "markdown",
   "metadata": {},
   "source": [
    "## Top Spenders"
   ]
  },
  {
   "cell_type": "markdown",
   "metadata": {},
   "source": [
    "* Run basic calculations to obtain the results in the table below\n",
    "\n",
    "\n",
    "* Create a summary data frame to hold the results\n",
    "\n",
    "\n",
    "* Sort the total purchase value column in descending order\n",
    "\n",
    "\n",
    "* Optional: give the displayed data cleaner formatting\n",
    "\n",
    "\n",
    "* Display a preview of the summary data frame\n",
    "\n"
   ]
  },
  {
   "cell_type": "code",
   "execution_count": 148,
   "metadata": {},
   "outputs": [
    {
     "output_type": "execute_result",
     "data": {
      "text/plain": "             Purchase Count Average Purchase Price Total Purchase Value\nSN                                                                     \nLisosia93                 5                  $3.79               $18.96\nIdastidru52               4                  $3.86               $15.45\nChamjask73                3                  $4.61               $13.83\nIral74                    4                  $3.40               $13.62\nIskadarya95               3                  $4.37               $13.10",
      "text/html": "<div>\n<style scoped>\n    .dataframe tbody tr th:only-of-type {\n        vertical-align: middle;\n    }\n\n    .dataframe tbody tr th {\n        vertical-align: top;\n    }\n\n    .dataframe thead th {\n        text-align: right;\n    }\n</style>\n<table border=\"1\" class=\"dataframe\">\n  <thead>\n    <tr style=\"text-align: right;\">\n      <th></th>\n      <th>Purchase Count</th>\n      <th>Average Purchase Price</th>\n      <th>Total Purchase Value</th>\n    </tr>\n    <tr>\n      <th>SN</th>\n      <th></th>\n      <th></th>\n      <th></th>\n    </tr>\n  </thead>\n  <tbody>\n    <tr>\n      <td>Lisosia93</td>\n      <td>5</td>\n      <td>$3.79</td>\n      <td>$18.96</td>\n    </tr>\n    <tr>\n      <td>Idastidru52</td>\n      <td>4</td>\n      <td>$3.86</td>\n      <td>$15.45</td>\n    </tr>\n    <tr>\n      <td>Chamjask73</td>\n      <td>3</td>\n      <td>$4.61</td>\n      <td>$13.83</td>\n    </tr>\n    <tr>\n      <td>Iral74</td>\n      <td>4</td>\n      <td>$3.40</td>\n      <td>$13.62</td>\n    </tr>\n    <tr>\n      <td>Iskadarya95</td>\n      <td>3</td>\n      <td>$4.37</td>\n      <td>$13.10</td>\n    </tr>\n  </tbody>\n</table>\n</div>"
     },
     "metadata": {},
     "execution_count": 148
    }
   ],
   "source": [
    "top_spenders_data_df = purchase_data.copy()\n",
    "grouped_top_spenders_df = top_spenders_data_df.groupby(\"SN\")\n",
    "\n",
    "# Counting purchases by player\n",
    "count_top_spender_purchase = grouped_top_spenders_df[\"Item Name\"].count()\n",
    "\n",
    "# Calculating Average Purchase Price\n",
    "avg_top_spender_price = grouped_top_spenders_df[\"Price\"].mean()\n",
    "\n",
    "# Calculating Total Purchase Value\n",
    "total_top_spender_purchase = grouped_top_spenders_df[\"Price\"].sum()\n",
    "\n",
    "# Creating a new summary DataFrame that contains all the information above\n",
    "top_spenders_purchase_df = pd.DataFrame({\n",
    "    \"Purchase Count\": count_top_spender_purchase, \n",
    "    \"Average Purchase Price\": avg_top_spender_price,\n",
    "    \"Total Purchase Value\": total_top_spender_purchase})\n",
    "\n",
    "# Sorting the total purchase value column in descending order\n",
    "sorted_total_spenders_df = top_spenders_purchase_df.sort_values(\"Total Purchase Value\", ascending=False)\n",
    "\n",
    "sorted_total_spenders_df[\"Total Purchase Value\"] = sorted_total_spenders_df[\"Total Purchase Value\"].map(\"${:.2f}\".format)\n",
    "sorted_total_spenders_df[\"Average Purchase Price\"] = sorted_total_spenders_df[\"Average Purchase Price\"].map(\"${:.2f}\".format)\n",
    "\n",
    "# Using Map to format columns\n",
    "sorted_total_spenders_df.head()"
   ]
  },
  {
   "cell_type": "markdown",
   "metadata": {},
   "source": [
    "## Most Popular Items"
   ]
  },
  {
   "cell_type": "markdown",
   "metadata": {},
   "source": [
    "* Retrieve the Item ID, Item Name, and Item Price columns\n",
    "\n",
    "\n",
    "* Group by Item ID and Item Name. Perform calculations to obtain purchase count, item price, and total purchase value\n",
    "\n",
    "\n",
    "* Create a summary data frame to hold the results\n",
    "\n",
    "\n",
    "* Sort the purchase count column in descending order\n",
    "\n",
    "\n",
    "* Optional: give the displayed data cleaner formatting\n",
    "\n",
    "\n",
    "* Display a preview of the summary data frame\n",
    "\n"
   ]
  },
  {
   "cell_type": "code",
   "execution_count": 150,
   "metadata": {},
   "outputs": [
    {
     "output_type": "execute_result",
     "data": {
      "text/plain": "   Item ID                                  Item Name  Price  Purchase Count  \\\n0      108  Extraction, Quickblade Of Trembling Hands  $3.53               9   \n1      143                          Frenzied Scimitar  $1.56               6   \n2       92                               Final Critic  $4.88              13   \n3      100                                Blindscythe  $3.27               5   \n4      131                                       Fury  $1.44               5   \n\n  Total Purchase Value  \n0               $31.77  \n1                $9.36  \n2               $59.99  \n3               $16.35  \n4                $7.20  ",
      "text/html": "<div>\n<style scoped>\n    .dataframe tbody tr th:only-of-type {\n        vertical-align: middle;\n    }\n\n    .dataframe tbody tr th {\n        vertical-align: top;\n    }\n\n    .dataframe thead th {\n        text-align: right;\n    }\n</style>\n<table border=\"1\" class=\"dataframe\">\n  <thead>\n    <tr style=\"text-align: right;\">\n      <th></th>\n      <th>Item ID</th>\n      <th>Item Name</th>\n      <th>Price</th>\n      <th>Purchase Count</th>\n      <th>Total Purchase Value</th>\n    </tr>\n  </thead>\n  <tbody>\n    <tr>\n      <td>0</td>\n      <td>108</td>\n      <td>Extraction, Quickblade Of Trembling Hands</td>\n      <td>$3.53</td>\n      <td>9</td>\n      <td>$31.77</td>\n    </tr>\n    <tr>\n      <td>1</td>\n      <td>143</td>\n      <td>Frenzied Scimitar</td>\n      <td>$1.56</td>\n      <td>6</td>\n      <td>$9.36</td>\n    </tr>\n    <tr>\n      <td>2</td>\n      <td>92</td>\n      <td>Final Critic</td>\n      <td>$4.88</td>\n      <td>13</td>\n      <td>$59.99</td>\n    </tr>\n    <tr>\n      <td>3</td>\n      <td>100</td>\n      <td>Blindscythe</td>\n      <td>$3.27</td>\n      <td>5</td>\n      <td>$16.35</td>\n    </tr>\n    <tr>\n      <td>4</td>\n      <td>131</td>\n      <td>Fury</td>\n      <td>$1.44</td>\n      <td>5</td>\n      <td>$7.20</td>\n    </tr>\n  </tbody>\n</table>\n</div>"
     },
     "metadata": {},
     "execution_count": 150
    }
   ],
   "source": [
    "popular_items_data_df = purchase_data.copy()\n",
    "grouped_popular_items_df = popular_items_data_df.groupby([\"Item ID\",\"Item Name\"])\n",
    "\n",
    "# Counting number of purchases\n",
    "count_popular_purchase = grouped_popular_items_df[\"Item ID\"].count()\n",
    "\n",
    "# Calculating Total Purchase Value\n",
    "total_popular_purchase = grouped_popular_items_df[\"Price\"].sum()\n",
    "\n",
    "# Creating a new DataFrame that contains all the information above\n",
    "popular_items_purchase_df = pd.DataFrame({\n",
    "    \"Purchase Count\": count_popular_purchase, \n",
    "    \"Total Purchase Value\": total_popular_purchase}\n",
    "    )\n",
    "\n",
    "# Create a new DataFrame with just Item ID and Price\n",
    "item_price_df = popular_items_data_df.drop(columns=[\"Purchase ID\", \"SN\", \"Age\", \"Gender\"]).drop_duplicates(subset = \"Item Name\", keep = \"first\")\n",
    "\n",
    "# Merge popular_items_purchase_df to item_price_df to grab Item Price\n",
    "merge_df = pd.merge(item_price_df, popular_items_purchase_df, on=\"Item ID\", how = \"left\")\n",
    "\n",
    "# Using Map to format columns\n",
    "merge_df[\"Price\"] = merge_df[\"Price\"].map(\"${:.2f}\".format)\n",
    "merge_df[\"Total Purchase Value\"] = merge_df[\"Total Purchase Value\"].map(\"${:.2f}\".format)\n",
    "merge_df.head()"
   ]
  },
  {
   "cell_type": "markdown",
   "metadata": {},
   "source": [
    "## Most Profitable Items"
   ]
  },
  {
   "cell_type": "markdown",
   "metadata": {},
   "source": [
    "* Sort the above table by total purchase value in descending order\n",
    "\n",
    "\n",
    "* Optional: give the displayed data cleaner formatting\n",
    "\n",
    "\n",
    "* Display a preview of the data frame\n",
    "\n"
   ]
  },
  {
   "cell_type": "code",
   "execution_count": 151,
   "metadata": {
    "scrolled": true
   },
   "outputs": [
    {
     "output_type": "execute_result",
     "data": {
      "text/plain": "                                            Item Name  Price  Purchase Count  \\\nItem ID                                                                        \n92                                       Final Critic  $4.88              13   \n178      Oathbreaker, Last Hope of the Breaking Storm  $4.23              12   \n108         Extraction, Quickblade Of Trembling Hands  $3.53               9   \n82                                            Nirvana  $4.90               9   \n145                              Fiery Glass Crusader  $4.58               9   \n\n        Total Purchase Value  \nItem ID                       \n92                    $59.99  \n178                   $50.76  \n108                   $31.77  \n82                    $44.10  \n145                   $41.22  ",
      "text/html": "<div>\n<style scoped>\n    .dataframe tbody tr th:only-of-type {\n        vertical-align: middle;\n    }\n\n    .dataframe tbody tr th {\n        vertical-align: top;\n    }\n\n    .dataframe thead th {\n        text-align: right;\n    }\n</style>\n<table border=\"1\" class=\"dataframe\">\n  <thead>\n    <tr style=\"text-align: right;\">\n      <th></th>\n      <th>Item Name</th>\n      <th>Price</th>\n      <th>Purchase Count</th>\n      <th>Total Purchase Value</th>\n    </tr>\n    <tr>\n      <th>Item ID</th>\n      <th></th>\n      <th></th>\n      <th></th>\n      <th></th>\n    </tr>\n  </thead>\n  <tbody>\n    <tr>\n      <td>92</td>\n      <td>Final Critic</td>\n      <td>$4.88</td>\n      <td>13</td>\n      <td>$59.99</td>\n    </tr>\n    <tr>\n      <td>178</td>\n      <td>Oathbreaker, Last Hope of the Breaking Storm</td>\n      <td>$4.23</td>\n      <td>12</td>\n      <td>$50.76</td>\n    </tr>\n    <tr>\n      <td>108</td>\n      <td>Extraction, Quickblade Of Trembling Hands</td>\n      <td>$3.53</td>\n      <td>9</td>\n      <td>$31.77</td>\n    </tr>\n    <tr>\n      <td>82</td>\n      <td>Nirvana</td>\n      <td>$4.90</td>\n      <td>9</td>\n      <td>$44.10</td>\n    </tr>\n    <tr>\n      <td>145</td>\n      <td>Fiery Glass Crusader</td>\n      <td>$4.58</td>\n      <td>9</td>\n      <td>$41.22</td>\n    </tr>\n  </tbody>\n</table>\n</div>"
     },
     "metadata": {},
     "execution_count": 151
    }
   ],
   "source": [
    "# Sorting the total purchase value column in descending order\n",
    "sorted_most_popular_df = merge_df.sort_values(\"Purchase Count\", ascending=False).set_index(\"Item ID\")\n",
    "sorted_most_popular_df.head()"
   ]
  },
  {
   "cell_type": "code",
   "execution_count": null,
   "metadata": {},
   "outputs": [],
   "source": []
  }
 ],
 "metadata": {
  "anaconda-cloud": {},
  "kernel_info": {
   "name": "python3"
  },
  "kernelspec": {
   "display_name": "Python 3",
   "language": "python",
   "name": "python3"
  },
  "language_info": {
   "codemirror_mode": {
    "name": "ipython",
    "version": 3
   },
   "file_extension": ".py",
   "mimetype": "text/x-python",
   "name": "python",
   "nbconvert_exporter": "python",
   "pygments_lexer": "ipython3",
   "version": "3.7.4-final"
  },
  "latex_envs": {
   "LaTeX_envs_menu_present": true,
   "autoclose": false,
   "autocomplete": true,
   "bibliofile": "biblio.bib",
   "cite_by": "apalike",
   "current_citInitial": 1,
   "eqLabelWithNumbers": true,
   "eqNumInitial": 1,
   "hotkeys": {
    "equation": "Ctrl-E",
    "itemize": "Ctrl-I"
   },
   "labels_anchors": false,
   "latex_user_defs": false,
   "report_style_numbering": false,
   "user_envs_cfg": false
  },
  "nteract": {
   "version": "0.2.0"
  }
 },
 "nbformat": 4,
 "nbformat_minor": 2
}